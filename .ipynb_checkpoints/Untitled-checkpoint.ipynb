{
 "cells": [
  {
   "cell_type": "code",
   "execution_count": 5,
   "id": "e7f8477f",
   "metadata": {},
   "outputs": [
    {
     "name": "stdout",
     "output_type": "stream",
     "text": [
      "   id  first_name last_name                     email   gender  \\\n",
      "0   1     Gallard    Saylor     gsaylor0@trellian.com     Male   \n",
      "1   2     Basilio   Attwoul  battwoul1@eventbrite.com     Male   \n",
      "2   3       Julie      Elsy         jelsy2@census.gov   Female   \n",
      "3   4       Allie     Early       aearly3@yahoo.co.jp   Female   \n",
      "4   5  Carol-jean     Fouch           cfouch4@ask.com  Agender   \n",
      "\n",
      "        ip_address  \n",
      "0   211.237.21.181  \n",
      "1    79.180.113.20  \n",
      "2     202.24.26.32  \n",
      "3  162.229.186.110  \n",
      "4  231.142.183.192  \n"
     ]
    }
   ],
   "source": [
    "import pandas as pd\n",
    "\n",
    "df1 = pd.read_csv('data/db1.csv')\n",
    "print(df1.head())"
   ]
  },
  {
   "cell_type": "code",
   "execution_count": 6,
   "id": "d221e55c",
   "metadata": {},
   "outputs": [
    {
     "name": "stdout",
     "output_type": "stream",
     "text": [
      "   id       card_number        card_type monthly_payment\n",
      "0   1  5108759925712599       mastercard        $3393.30\n",
      "1   2  5602247569024134         bankcard        $3013.66\n",
      "2   3  3584918545173602              jcb        $1694.63\n",
      "3   4  4405618590758571    visa-electron         $738.97\n",
      "4   5   374622685147588  americanexpress        $2792.18\n"
     ]
    }
   ],
   "source": [
    "df2 = pd.read_csv('data/db2.csv')\n",
    "print(df2.head())"
   ]
  },
  {
   "cell_type": "code",
   "execution_count": 8,
   "id": "74a45591",
   "metadata": {},
   "outputs": [],
   "source": [
    "data_dict = {\n",
    "    \"BD1\": [\n",
    "        {\n",
    "            \"Supplier\": {\n",
    "                \"Technical_Name\": \"String\",\n",
    "                \"Business_Meaning\": \"El que me vende el producto\"\n",
    "            }\n",
    "        },\n",
    "        {\n",
    "            \"Otro nombre\": {\n",
    "                \"Technical_Name\": \"String\",\n",
    "                \"Business_Meaning\": \"El que me vende el producto\"\n",
    "            }\n",
    "        }\n",
    "    ]\n",
    "}\n"
   ]
  },
  {
   "cell_type": "code",
   "execution_count": null,
   "id": "afa1dc0a",
   "metadata": {},
   "outputs": [],
   "source": [
    "{\n",
    "    \"id_exhibidor\": {\n",
    "        \"data_type\" : \"int\",\n",
    "        \"business_name\" :\"Identificador del exhibidor\"\n",
    "        },\n",
    "    \"id_pdv\": {\n",
    "        \"Technical_name\" : \"\",\n",
    "        \"business_name\" :\"Identificador del punto de venta\"\n",
    "    },\n",
    "    \"estado_fisico\": {\n",
    "        \"Technical_name\" : \"\",\n",
    "        \"business_name\" :\"Estado físico en el que se encuentra el exhibidor\"\n",
    "    },\n",
    "    \"largo\": {\n",
    "        \"Technical_name\" : \"\",\n",
    "        \"business_name\" :\"largo del exhibidor en centímetros\"\n",
    "    },\n",
    "    \"alto\": {\n",
    "        \"Technical_name\" : \"\",\n",
    "        \"business_name\" :\"alto del exhibidor en centímetros\" \n",
    "    }\n",
    "}"
   ]
  },
  {
   "cell_type": "code",
   "execution_count": null,
   "id": "b1f2a81e",
   "metadata": {},
   "outputs": [],
   "source": [
    "config =\n",
    "{\n",
    "    \"golden_db1\": {\n",
    "        \"original_name\" : \"db1\",\n",
    "        \"golden_field1\" : \"id_pdv\",\n",
    "        \"golden_field2\" : \"nombre\",\n",
    "        \"golden_field3\" : \"estado\",\n",
    "        \"golden_field4\" : \"ciudad\",\n",
    "        \"golden_field5\" : \"cp\"\n",
    "    },\n",
    "    \"golden_db2\": {\n",
    "        \"original_name\" : \"db2\",\n",
    "        \"golden_field1\" : \"id_exhibidor\",\n",
    "        \"golden_field2\" : \"id_pdv\",\n",
    "        \"golden_field3\" : \"estado_fisico\",\n",
    "        \"golden_field4\" : \"largo\",\n",
    "        \"golden_field5\" : \"alto\"\n",
    "    }\n",
    "}"
   ]
  }
 ],
 "metadata": {
  "kernelspec": {
   "display_name": "Python 3 (ipykernel)",
   "language": "python",
   "name": "python3"
  },
  "language_info": {
   "codemirror_mode": {
    "name": "ipython",
    "version": 3
   },
   "file_extension": ".py",
   "mimetype": "text/x-python",
   "name": "python",
   "nbconvert_exporter": "python",
   "pygments_lexer": "ipython3",
   "version": "3.9.12"
  }
 },
 "nbformat": 4,
 "nbformat_minor": 5
}
